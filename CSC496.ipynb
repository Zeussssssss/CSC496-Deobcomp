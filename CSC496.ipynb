{
  "cells": [
    {
      "cell_type": "code",
      "execution_count": 27,
      "metadata": {
        "id": "W74TwXxMwya8"
      },
      "outputs": [],
      "source": [
        "# importing modules\n",
        "from tensorflow.keras.models import Sequential\n",
        "from tensorflow.keras.layers import Conv2D, MaxPooling2D, Dense, Flatten, Dropout\n",
        "import tensorflow as tf\n",
        "import os\n",
        "import numpy as np\n",
        "import matplotlib.pyplot as plt\n"
      ]
    },
    {
      "cell_type": "code",
      "execution_count": 28,
      "metadata": {
        "colab": {
          "base_uri": "https://localhost:8080/"
        },
        "id": "wXlLmGwYbK8-",
        "outputId": "2c568ac5-3c02-4669-8117-d08573e3501c"
      },
      "outputs": [
        {
          "data": {
            "text/plain": [
              "[]"
            ]
          },
          "execution_count": 28,
          "metadata": {},
          "output_type": "execute_result"
        }
      ],
      "source": [
        "tf.config.list_physical_devices('GPU')"
      ]
    },
    {
      "cell_type": "code",
      "execution_count": 29,
      "metadata": {
        "colab": {
          "base_uri": "https://localhost:8080/",
          "height": 35
        },
        "id": "Yk_Cr-POhgnE",
        "outputId": "aa369d86-367d-4323-8a39-716401bfa3d0"
      },
      "outputs": [
        {
          "data": {
            "text/plain": [
              "'/Users/adityakumar/Documents/CSC 496/CSC496-Deobcomp'"
            ]
          },
          "execution_count": 29,
          "metadata": {},
          "output_type": "execute_result"
        }
      ],
      "source": [
        "os.getcwd()"
      ]
    },
    {
      "cell_type": "code",
      "execution_count": 30,
      "metadata": {
        "colab": {
          "base_uri": "https://localhost:8080/"
        },
        "id": "moVQXi_xgU_6",
        "outputId": "1056dead-3df8-4b0d-ddec-9da7c32b7ab3"
      },
      "outputs": [
        {
          "name": "stdout",
          "output_type": "stream",
          "text": [
            "Found 6436 files belonging to 5 classes.\n"
          ]
        }
      ],
      "source": [
        "# load data\n",
        "import zipfile\n",
        "with zipfile.ZipFile(\"image_dataset.zip\", 'r') as zip_ref:\n",
        "        zip_ref.extractall()\n",
        "data = tf.keras.utils.image_dataset_from_directory('img', label_mode='categorical', image_size=(64, 64), color_mode='grayscale')"
      ]
    },
    {
      "cell_type": "code",
      "execution_count": 31,
      "metadata": {
        "colab": {
          "base_uri": "https://localhost:8080/"
        },
        "id": "wfp6KDsXiMgK",
        "outputId": "5ca1f03e-b3e8-4f04-e7a4-61af7036c1bf"
      },
      "outputs": [
        {
          "name": "stdout",
          "output_type": "stream",
          "text": [
            "202\n",
            "202\n"
          ]
        }
      ],
      "source": [
        "# scale data to be from 0 to 1\n",
        "print(len(data))\n",
        "data = data.map(lambda image, label: (image/255, label))\n",
        "print(len(data))\n",
        "\n"
      ]
    },
    {
      "cell_type": "code",
      "execution_count": 32,
      "metadata": {
        "id": "m56G6b-tidCx"
      },
      "outputs": [],
      "source": [
        "# train test val split\n",
        "train = data.take(int(len(data)*.6))\n",
        "val = data.skip(int(len(data)*.6)).take(int(len(data)*.2))\n",
        "test = data.skip(int(len(data)*.8)).take(int(len(data)*.2))"
      ]
    },
    {
      "cell_type": "code",
      "execution_count": 33,
      "metadata": {
        "colab": {
          "base_uri": "https://localhost:8080/"
        },
        "id": "gNLb54zTqwgs",
        "outputId": "0a757317-4d4c-4497-95b3-e413ad464d35"
      },
      "outputs": [
        {
          "data": {
            "text/plain": [
              "202"
            ]
          },
          "execution_count": 33,
          "metadata": {},
          "output_type": "execute_result"
        }
      ],
      "source": [
        "len(data)"
      ]
    },
    {
      "cell_type": "code",
      "execution_count": 34,
      "metadata": {
        "colab": {
          "base_uri": "https://localhost:8080/"
        },
        "id": "K8me1p_wixMZ",
        "outputId": "2a3ba002-cf63-4dc7-a0f8-4e0dd80a31b1"
      },
      "outputs": [
        {
          "data": {
            "text/plain": [
              "<_TakeDataset element_spec=(TensorSpec(shape=(None, 64, 64, 1), dtype=tf.float32, name=None), TensorSpec(shape=(None, 5), dtype=tf.float32, name=None))>"
            ]
          },
          "execution_count": 34,
          "metadata": {},
          "output_type": "execute_result"
        }
      ],
      "source": [
        "train"
      ]
    },
    {
      "cell_type": "code",
      "execution_count": 35,
      "metadata": {
        "id": "8jE_Th05w9eR"
      },
      "outputs": [],
      "source": [
        "model = Sequential()"
      ]
    },
    {
      "cell_type": "code",
      "execution_count": 36,
      "metadata": {
        "id": "-ej9q-gaxAPn"
      },
      "outputs": [],
      "source": [
        "model.add(Conv2D(30, (3,3), 1, activation='relu', input_shape=(64,64,1)))\n",
        "model.add(MaxPooling2D())\n",
        "\n",
        "model.add(Conv2D(15, (3,3), 1, activation='relu'))\n",
        "model.add(MaxPooling2D())\n",
        "\n",
        "model.add(Dropout(0.3))\n",
        "model.add(Flatten())\n",
        "\n",
        "model.add(Dense(128, activation='relu'))\n",
        "model.add(Dropout(0.4))\n",
        "\n",
        "model.add(Dense(50, activation='relu'))\n",
        "model.add(Dense(5, activation='softmax'))"
      ]
    },
    {
      "cell_type": "code",
      "execution_count": 37,
      "metadata": {
        "id": "-AQ5NlALkPto"
      },
      "outputs": [],
      "source": [
        "model.compile('adam', loss=tf.losses.CategoricalCrossentropy(), metrics=['F1Score', 'accuracy'])\n"
      ]
    },
    {
      "cell_type": "code",
      "execution_count": null,
      "metadata": {
        "colab": {
          "base_uri": "https://localhost:8080/"
        },
        "id": "LKXZ5pMUybpp",
        "outputId": "cb9814e6-5479-4c9e-db54-9499bdbf4fc7"
      },
      "outputs": [],
      "source": [
        "model.summary()"
      ]
    },
    {
      "cell_type": "code",
      "execution_count": 39,
      "metadata": {
        "colab": {
          "base_uri": "https://localhost:8080/"
        },
        "id": "2Bc2RkBgknJG",
        "outputId": "824deadb-8cf1-4690-9228-2aaea7804ff9"
      },
      "outputs": [
        {
          "name": "stdout",
          "output_type": "stream",
          "text": [
            "Epoch 1/50\n",
            "\u001b[1m121/121\u001b[0m \u001b[32m━━━━━━━━━━━━━━━━━━━━\u001b[0m\u001b[37m\u001b[0m \u001b[1m4s\u001b[0m 25ms/step - F1Score: 0.5375 - accuracy: 0.5453 - loss: 1.0906 - val_F1Score: 0.9391 - val_accuracy: 0.9406 - val_loss: 0.1807\n",
            "Epoch 2/50\n",
            "\u001b[1m121/121\u001b[0m \u001b[32m━━━━━━━━━━━━━━━━━━━━\u001b[0m\u001b[37m\u001b[0m \u001b[1m3s\u001b[0m 23ms/step - F1Score: 0.9369 - accuracy: 0.9364 - loss: 0.2250 - val_F1Score: 0.9682 - val_accuracy: 0.9688 - val_loss: 0.0932\n",
            "Epoch 3/50\n",
            "\u001b[1m121/121\u001b[0m \u001b[32m━━━━━━━━━━━━━━━━━━━━\u001b[0m\u001b[37m\u001b[0m \u001b[1m3s\u001b[0m 24ms/step - F1Score: 0.9598 - accuracy: 0.9586 - loss: 0.1362 - val_F1Score: 0.9658 - val_accuracy: 0.9672 - val_loss: 0.0845\n",
            "Epoch 4/50\n",
            "\u001b[1m121/121\u001b[0m \u001b[32m━━━━━━━━━━━━━━━━━━━━\u001b[0m\u001b[37m\u001b[0m \u001b[1m3s\u001b[0m 24ms/step - F1Score: 0.9778 - accuracy: 0.9773 - loss: 0.0840 - val_F1Score: 0.9792 - val_accuracy: 0.9797 - val_loss: 0.0539\n",
            "Epoch 5/50\n",
            "\u001b[1m121/121\u001b[0m \u001b[32m━━━━━━━━━━━━━━━━━━━━\u001b[0m\u001b[37m\u001b[0m \u001b[1m3s\u001b[0m 25ms/step - F1Score: 0.9860 - accuracy: 0.9859 - loss: 0.0500 - val_F1Score: 0.9844 - val_accuracy: 0.9844 - val_loss: 0.0471\n",
            "Epoch 6/50\n",
            "\u001b[1m121/121\u001b[0m \u001b[32m━━━━━━━━━━━━━━━━━━━━\u001b[0m\u001b[37m\u001b[0m \u001b[1m3s\u001b[0m 24ms/step - F1Score: 0.9850 - accuracy: 0.9848 - loss: 0.0517 - val_F1Score: 0.9791 - val_accuracy: 0.9797 - val_loss: 0.0660\n",
            "Epoch 7/50\n",
            "\u001b[1m121/121\u001b[0m \u001b[32m━━━━━━━━━━━━━━━━━━━━\u001b[0m\u001b[37m\u001b[0m \u001b[1m3s\u001b[0m 24ms/step - F1Score: 0.9835 - accuracy: 0.9850 - loss: 0.0415 - val_F1Score: 0.9889 - val_accuracy: 0.9891 - val_loss: 0.0375\n",
            "Epoch 8/50\n",
            "\u001b[1m121/121\u001b[0m \u001b[32m━━━━━━━━━━━━━━━━━━━━\u001b[0m\u001b[37m\u001b[0m \u001b[1m3s\u001b[0m 24ms/step - F1Score: 0.9851 - accuracy: 0.9847 - loss: 0.0418 - val_F1Score: 0.9848 - val_accuracy: 0.9852 - val_loss: 0.0337\n",
            "Epoch 9/50\n",
            "\u001b[1m121/121\u001b[0m \u001b[32m━━━━━━━━━━━━━━━━━━━━\u001b[0m\u001b[37m\u001b[0m \u001b[1m3s\u001b[0m 24ms/step - F1Score: 0.9899 - accuracy: 0.9899 - loss: 0.0389 - val_F1Score: 0.9849 - val_accuracy: 0.9852 - val_loss: 0.0353\n",
            "Epoch 10/50\n",
            "\u001b[1m121/121\u001b[0m \u001b[32m━━━━━━━━━━━━━━━━━━━━\u001b[0m\u001b[37m\u001b[0m \u001b[1m3s\u001b[0m 25ms/step - F1Score: 0.9948 - accuracy: 0.9946 - loss: 0.0217 - val_F1Score: 0.9888 - val_accuracy: 0.9891 - val_loss: 0.0329\n",
            "Epoch 11/50\n",
            "\u001b[1m121/121\u001b[0m \u001b[32m━━━━━━━━━━━━━━━━━━━━\u001b[0m\u001b[37m\u001b[0m \u001b[1m3s\u001b[0m 27ms/step - F1Score: 0.9912 - accuracy: 0.9910 - loss: 0.0222 - val_F1Score: 0.9895 - val_accuracy: 0.9898 - val_loss: 0.0296\n",
            "Epoch 12/50\n",
            "\u001b[1m121/121\u001b[0m \u001b[32m━━━━━━━━━━━━━━━━━━━━\u001b[0m\u001b[37m\u001b[0m \u001b[1m3s\u001b[0m 27ms/step - F1Score: 0.9927 - accuracy: 0.9926 - loss: 0.0185 - val_F1Score: 0.9897 - val_accuracy: 0.9898 - val_loss: 0.0336\n",
            "Epoch 13/50\n",
            "\u001b[1m121/121\u001b[0m \u001b[32m━━━━━━━━━━━━━━━━━━━━\u001b[0m\u001b[37m\u001b[0m \u001b[1m3s\u001b[0m 24ms/step - F1Score: 0.9949 - accuracy: 0.9947 - loss: 0.0170 - val_F1Score: 0.9865 - val_accuracy: 0.9867 - val_loss: 0.0461\n",
            "Epoch 14/50\n",
            "\u001b[1m121/121\u001b[0m \u001b[32m━━━━━━━━━━━━━━━━━━━━\u001b[0m\u001b[37m\u001b[0m \u001b[1m3s\u001b[0m 25ms/step - F1Score: 0.9962 - accuracy: 0.9961 - loss: 0.0144 - val_F1Score: 0.9879 - val_accuracy: 0.9883 - val_loss: 0.0388\n",
            "Epoch 15/50\n",
            "\u001b[1m121/121\u001b[0m \u001b[32m━━━━━━━━━━━━━━━━━━━━\u001b[0m\u001b[37m\u001b[0m \u001b[1m3s\u001b[0m 25ms/step - F1Score: 0.9954 - accuracy: 0.9953 - loss: 0.0121 - val_F1Score: 0.9919 - val_accuracy: 0.9922 - val_loss: 0.0200\n",
            "Epoch 16/50\n",
            "\u001b[1m121/121\u001b[0m \u001b[32m━━━━━━━━━━━━━━━━━━━━\u001b[0m\u001b[37m\u001b[0m \u001b[1m3s\u001b[0m 27ms/step - F1Score: 0.9953 - accuracy: 0.9953 - loss: 0.0138 - val_F1Score: 0.9911 - val_accuracy: 0.9914 - val_loss: 0.0221\n",
            "Epoch 17/50\n",
            "\u001b[1m121/121\u001b[0m \u001b[32m━━━━━━━━━━━━━━━━━━━━\u001b[0m\u001b[37m\u001b[0m \u001b[1m3s\u001b[0m 26ms/step - F1Score: 0.9956 - accuracy: 0.9955 - loss: 0.0116 - val_F1Score: 0.9905 - val_accuracy: 0.9906 - val_loss: 0.0315\n",
            "Epoch 18/50\n",
            "\u001b[1m121/121\u001b[0m \u001b[32m━━━━━━━━━━━━━━━━━━━━\u001b[0m\u001b[37m\u001b[0m \u001b[1m4s\u001b[0m 30ms/step - F1Score: 0.9983 - accuracy: 0.9983 - loss: 0.0083 - val_F1Score: 0.9897 - val_accuracy: 0.9898 - val_loss: 0.0382\n",
            "Epoch 19/50\n",
            "\u001b[1m121/121\u001b[0m \u001b[32m━━━━━━━━━━━━━━━━━━━━\u001b[0m\u001b[37m\u001b[0m \u001b[1m3s\u001b[0m 27ms/step - F1Score: 0.9955 - accuracy: 0.9954 - loss: 0.0115 - val_F1Score: 0.9905 - val_accuracy: 0.9906 - val_loss: 0.0304\n",
            "Epoch 20/50\n",
            "\u001b[1m121/121\u001b[0m \u001b[32m━━━━━━━━━━━━━━━━━━━━\u001b[0m\u001b[37m\u001b[0m \u001b[1m3s\u001b[0m 26ms/step - F1Score: 0.9942 - accuracy: 0.9942 - loss: 0.0157 - val_F1Score: 0.9920 - val_accuracy: 0.9922 - val_loss: 0.0244\n",
            "Epoch 21/50\n",
            "\u001b[1m121/121\u001b[0m \u001b[32m━━━━━━━━━━━━━━━━━━━━\u001b[0m\u001b[37m\u001b[0m \u001b[1m3s\u001b[0m 25ms/step - F1Score: 0.9946 - accuracy: 0.9945 - loss: 0.0160 - val_F1Score: 0.9896 - val_accuracy: 0.9898 - val_loss: 0.0369\n",
            "Epoch 22/50\n",
            "\u001b[1m121/121\u001b[0m \u001b[32m━━━━━━━━━━━━━━━━━━━━\u001b[0m\u001b[37m\u001b[0m \u001b[1m3s\u001b[0m 24ms/step - F1Score: 0.9958 - accuracy: 0.9957 - loss: 0.0126 - val_F1Score: 0.9943 - val_accuracy: 0.9945 - val_loss: 0.0199\n",
            "Epoch 23/50\n",
            "\u001b[1m121/121\u001b[0m \u001b[32m━━━━━━━━━━━━━━━━━━━━\u001b[0m\u001b[37m\u001b[0m \u001b[1m3s\u001b[0m 25ms/step - F1Score: 0.9940 - accuracy: 0.9939 - loss: 0.0134 - val_F1Score: 0.9903 - val_accuracy: 0.9906 - val_loss: 0.0304\n",
            "Epoch 24/50\n",
            "\u001b[1m121/121\u001b[0m \u001b[32m━━━━━━━━━━━━━━━━━━━━\u001b[0m\u001b[37m\u001b[0m \u001b[1m3s\u001b[0m 25ms/step - F1Score: 0.9998 - accuracy: 0.9998 - loss: 0.0036 - val_F1Score: 0.9912 - val_accuracy: 0.9914 - val_loss: 0.0413\n",
            "Epoch 25/50\n",
            "\u001b[1m121/121\u001b[0m \u001b[32m━━━━━━━━━━━━━━━━━━━━\u001b[0m\u001b[37m\u001b[0m \u001b[1m3s\u001b[0m 25ms/step - F1Score: 0.9967 - accuracy: 0.9965 - loss: 0.0079 - val_F1Score: 0.9928 - val_accuracy: 0.9930 - val_loss: 0.0234\n",
            "Epoch 26/50\n",
            "\u001b[1m121/121\u001b[0m \u001b[32m━━━━━━━━━━━━━━━━━━━━\u001b[0m\u001b[37m\u001b[0m \u001b[1m3s\u001b[0m 27ms/step - F1Score: 0.9973 - accuracy: 0.9972 - loss: 0.0083 - val_F1Score: 0.9921 - val_accuracy: 0.9922 - val_loss: 0.0162\n",
            "Epoch 27/50\n",
            "\u001b[1m121/121\u001b[0m \u001b[32m━━━━━━━━━━━━━━━━━━━━\u001b[0m\u001b[37m\u001b[0m \u001b[1m3s\u001b[0m 27ms/step - F1Score: 0.9984 - accuracy: 0.9983 - loss: 0.0051 - val_F1Score: 0.9904 - val_accuracy: 0.9906 - val_loss: 0.0420\n",
            "Epoch 28/50\n",
            "\u001b[1m121/121\u001b[0m \u001b[32m━━━━━━━━━━━━━━━━━━━━\u001b[0m\u001b[37m\u001b[0m \u001b[1m3s\u001b[0m 28ms/step - F1Score: 0.9974 - accuracy: 0.9974 - loss: 0.0067 - val_F1Score: 0.9921 - val_accuracy: 0.9922 - val_loss: 0.0287\n",
            "Epoch 29/50\n",
            "\u001b[1m121/121\u001b[0m \u001b[32m━━━━━━━━━━━━━━━━━━━━\u001b[0m\u001b[37m\u001b[0m \u001b[1m3s\u001b[0m 25ms/step - F1Score: 0.9988 - accuracy: 0.9988 - loss: 0.0062 - val_F1Score: 0.9895 - val_accuracy: 0.9898 - val_loss: 0.0439\n",
            "Epoch 30/50\n",
            "\u001b[1m121/121\u001b[0m \u001b[32m━━━━━━━━━━━━━━━━━━━━\u001b[0m\u001b[37m\u001b[0m \u001b[1m3s\u001b[0m 26ms/step - F1Score: 0.9974 - accuracy: 0.9973 - loss: 0.0053 - val_F1Score: 0.9920 - val_accuracy: 0.9922 - val_loss: 0.0296\n",
            "Epoch 31/50\n",
            "\u001b[1m121/121\u001b[0m \u001b[32m━━━━━━━━━━━━━━━━━━━━\u001b[0m\u001b[37m\u001b[0m \u001b[1m3s\u001b[0m 26ms/step - F1Score: 0.9931 - accuracy: 0.9931 - loss: 0.0208 - val_F1Score: 0.9889 - val_accuracy: 0.9891 - val_loss: 0.0396\n",
            "Epoch 32/50\n",
            "\u001b[1m121/121\u001b[0m \u001b[32m━━━━━━━━━━━━━━━━━━━━\u001b[0m\u001b[37m\u001b[0m \u001b[1m3s\u001b[0m 26ms/step - F1Score: 0.9993 - accuracy: 0.9993 - loss: 0.0025 - val_F1Score: 0.9912 - val_accuracy: 0.9914 - val_loss: 0.0361\n",
            "Epoch 33/50\n",
            "\u001b[1m121/121\u001b[0m \u001b[32m━━━━━━━━━━━━━━━━━━━━\u001b[0m\u001b[37m\u001b[0m \u001b[1m3s\u001b[0m 26ms/step - F1Score: 0.9990 - accuracy: 0.9990 - loss: 0.0029 - val_F1Score: 0.9906 - val_accuracy: 0.9906 - val_loss: 0.0354\n",
            "Epoch 34/50\n",
            "\u001b[1m121/121\u001b[0m \u001b[32m━━━━━━━━━━━━━━━━━━━━\u001b[0m\u001b[37m\u001b[0m \u001b[1m3s\u001b[0m 27ms/step - F1Score: 0.9973 - accuracy: 0.9973 - loss: 0.0055 - val_F1Score: 0.9912 - val_accuracy: 0.9914 - val_loss: 0.0330\n",
            "Epoch 35/50\n",
            "\u001b[1m121/121\u001b[0m \u001b[32m━━━━━━━━━━━━━━━━━━━━\u001b[0m\u001b[37m\u001b[0m \u001b[1m3s\u001b[0m 27ms/step - F1Score: 0.9982 - accuracy: 0.9981 - loss: 0.0052 - val_F1Score: 0.9887 - val_accuracy: 0.9891 - val_loss: 0.0291\n",
            "Epoch 36/50\n",
            "\u001b[1m121/121\u001b[0m \u001b[32m━━━━━━━━━━━━━━━━━━━━\u001b[0m\u001b[37m\u001b[0m \u001b[1m4s\u001b[0m 29ms/step - F1Score: 0.9940 - accuracy: 0.9940 - loss: 0.0171 - val_F1Score: 0.9920 - val_accuracy: 0.9922 - val_loss: 0.0361\n",
            "Epoch 37/50\n",
            "\u001b[1m121/121\u001b[0m \u001b[32m━━━━━━━━━━━━━━━━━━━━\u001b[0m\u001b[37m\u001b[0m \u001b[1m4s\u001b[0m 30ms/step - F1Score: 0.9980 - accuracy: 0.9979 - loss: 0.0094 - val_F1Score: 0.9913 - val_accuracy: 0.9914 - val_loss: 0.0416\n",
            "Epoch 38/50\n",
            "\u001b[1m121/121\u001b[0m \u001b[32m━━━━━━━━━━━━━━━━━━━━\u001b[0m\u001b[37m\u001b[0m \u001b[1m3s\u001b[0m 25ms/step - F1Score: 0.9994 - accuracy: 0.9994 - loss: 0.0045 - val_F1Score: 0.9911 - val_accuracy: 0.9914 - val_loss: 0.0483\n",
            "Epoch 39/50\n",
            "\u001b[1m121/121\u001b[0m \u001b[32m━━━━━━━━━━━━━━━━━━━━\u001b[0m\u001b[37m\u001b[0m \u001b[1m3s\u001b[0m 25ms/step - F1Score: 0.9999 - accuracy: 0.9999 - loss: 0.0019 - val_F1Score: 0.9937 - val_accuracy: 0.9937 - val_loss: 0.0280\n",
            "Epoch 40/50\n",
            "\u001b[1m121/121\u001b[0m \u001b[32m━━━━━━━━━━━━━━━━━━━━\u001b[0m\u001b[37m\u001b[0m \u001b[1m3s\u001b[0m 26ms/step - F1Score: 0.9990 - accuracy: 0.9990 - loss: 0.0028 - val_F1Score: 0.9913 - val_accuracy: 0.9914 - val_loss: 0.0300\n",
            "Epoch 41/50\n",
            "\u001b[1m121/121\u001b[0m \u001b[32m━━━━━━━━━━━━━━━━━━━━\u001b[0m\u001b[37m\u001b[0m \u001b[1m3s\u001b[0m 25ms/step - F1Score: 0.9994 - accuracy: 0.9995 - loss: 0.0027 - val_F1Score: 0.9930 - val_accuracy: 0.9930 - val_loss: 0.0362\n",
            "Epoch 42/50\n",
            "\u001b[1m121/121\u001b[0m \u001b[32m━━━━━━━━━━━━━━━━━━━━\u001b[0m\u001b[37m\u001b[0m \u001b[1m3s\u001b[0m 25ms/step - F1Score: 0.9991 - accuracy: 0.9991 - loss: 0.0032 - val_F1Score: 0.9906 - val_accuracy: 0.9906 - val_loss: 0.0461\n",
            "Epoch 43/50\n",
            "\u001b[1m121/121\u001b[0m \u001b[32m━━━━━━━━━━━━━━━━━━━━\u001b[0m\u001b[37m\u001b[0m \u001b[1m3s\u001b[0m 26ms/step - F1Score: 0.9996 - accuracy: 0.9995 - loss: 0.0017 - val_F1Score: 0.9913 - val_accuracy: 0.9914 - val_loss: 0.0429\n",
            "Epoch 44/50\n",
            "\u001b[1m121/121\u001b[0m \u001b[32m━━━━━━━━━━━━━━━━━━━━\u001b[0m\u001b[37m\u001b[0m \u001b[1m4s\u001b[0m 29ms/step - F1Score: 0.9991 - accuracy: 0.9990 - loss: 0.0035 - val_F1Score: 0.9912 - val_accuracy: 0.9914 - val_loss: 0.0275\n",
            "Epoch 45/50\n",
            "\u001b[1m121/121\u001b[0m \u001b[32m━━━━━━━━━━━━━━━━━━━━\u001b[0m\u001b[37m\u001b[0m \u001b[1m3s\u001b[0m 28ms/step - F1Score: 0.9976 - accuracy: 0.9976 - loss: 0.0068 - val_F1Score: 0.9936 - val_accuracy: 0.9937 - val_loss: 0.0313\n",
            "Epoch 46/50\n",
            "\u001b[1m121/121\u001b[0m \u001b[32m━━━━━━━━━━━━━━━━━━━━\u001b[0m\u001b[37m\u001b[0m \u001b[1m3s\u001b[0m 28ms/step - F1Score: 0.9980 - accuracy: 0.9980 - loss: 0.0057 - val_F1Score: 0.9911 - val_accuracy: 0.9914 - val_loss: 0.0268\n",
            "Epoch 47/50\n",
            "\u001b[1m121/121\u001b[0m \u001b[32m━━━━━━━━━━━━━━━━━━━━\u001b[0m\u001b[37m\u001b[0m \u001b[1m3s\u001b[0m 27ms/step - F1Score: 0.9966 - accuracy: 0.9966 - loss: 0.0127 - val_F1Score: 0.9943 - val_accuracy: 0.9945 - val_loss: 0.0253\n",
            "Epoch 48/50\n",
            "\u001b[1m121/121\u001b[0m \u001b[32m━━━━━━━━━━━━━━━━━━━━\u001b[0m\u001b[37m\u001b[0m \u001b[1m3s\u001b[0m 27ms/step - F1Score: 0.9998 - accuracy: 0.9998 - loss: 9.7651e-04 - val_F1Score: 0.9911 - val_accuracy: 0.9914 - val_loss: 0.0349\n",
            "Epoch 49/50\n",
            "\u001b[1m121/121\u001b[0m \u001b[32m━━━━━━━━━━━━━━━━━━━━\u001b[0m\u001b[37m\u001b[0m \u001b[1m3s\u001b[0m 25ms/step - F1Score: 0.9993 - accuracy: 0.9993 - loss: 0.0022 - val_F1Score: 0.9936 - val_accuracy: 0.9937 - val_loss: 0.0386\n",
            "Epoch 50/50\n",
            "\u001b[1m121/121\u001b[0m \u001b[32m━━━━━━━━━━━━━━━━━━━━\u001b[0m\u001b[37m\u001b[0m \u001b[1m3s\u001b[0m 27ms/step - F1Score: 0.9988 - accuracy: 0.9988 - loss: 0.0058 - val_F1Score: 0.9936 - val_accuracy: 0.9937 - val_loss: 0.0258\n"
          ]
        }
      ],
      "source": [
        "hist = model.fit(train, epochs=50, validation_data=val)"
      ]
    },
    {
      "cell_type": "code",
      "execution_count": 40,
      "metadata": {
        "colab": {
          "base_uri": "https://localhost:8080/",
          "height": 478
        },
        "id": "r9I0iYvRpuCx",
        "outputId": "3759c945-783e-4f61-bfd1-49940188d231"
      },
      "outputs": [
        {
          "data": {
            "image/png": "[encoded data removed]",
            "text/plain": [
              "<Figure size 640x480 with 1 Axes>"
            ]
          },
          "metadata": {},
          "output_type": "display_data"
        }
      ],
      "source": [
        "fig = plt.figure()\n",
        "plt.plot(hist.history['loss'], color='teal', label='loss')\n",
        "plt.plot(hist.history['val_loss'], color='orange', label='val_loss')\n",
        "fig.suptitle('Loss', fontsize=20)\n",
        "plt.legend(loc=\"upper left\")\n",
        "plt.show()"
      ]
    },
    {
      "cell_type": "code",
      "execution_count": 41,
      "metadata": {
        "colab": {
          "base_uri": "https://localhost:8080/"
        },
        "id": "MKXzEJLftUjH",
        "outputId": "6eb51e03-8441-4b54-f5a1-47e2333c5bea"
      },
      "outputs": [
        {
          "name": "stdout",
          "output_type": "stream",
          "text": [
            "\u001b[1m40/40\u001b[0m \u001b[32m━━━━━━━━━━━━━━━━━━━━\u001b[0m\u001b[37m\u001b[0m \u001b[1m1s\u001b[0m 6ms/step - F1Score: 0.9932 - accuracy: 0.9939 - loss: 0.0222\n"
          ]
        },
        {
          "data": {
            "text/plain": [
              "[0.02305038459599018,\n",
              " <tf.Tensor: shape=(5,), dtype=float32, numpy=\n",
              " array([0.99118936, 0.985447  , 0.9922779 , 0.99827874, 1.        ],\n",
              "       dtype=float32)>,\n",
              " 0.9937499761581421]"
            ]
          },
          "execution_count": 41,
          "metadata": {},
          "output_type": "execute_result"
        }
      ],
      "source": [
        "model.evaluate(test)"
      ]
    },
    {
      "cell_type": "code",
      "execution_count": 42,
      "metadata": {
        "id": "sTB_f32UvVXH"
      },
      "outputs": [],
      "source": [
        "\n",
        "import cv2"
      ]
    },
    {
      "cell_type": "code",
      "execution_count": null,
      "metadata": {
        "colab": {
          "base_uri": "https://localhost:8080/",
          "height": 484
        },
        "id": "toYKYp1Pv4ra",
        "outputId": "a92764d5-c85f-4bed-e414-ce7ff1c43195"
      },
      "outputs": [
        {
          "name": "stdout",
          "output_type": "stream",
          "text": [
            "1/1 [==============================] - 0s 181ms/step\n"
          ]
        },
        {
          "data": {
            "text/plain": [
              "array([[6.0428749e-04, 9.9936920e-01, 2.4107567e-05, 2.4661392e-06,\n",
              "        2.2489536e-08]], dtype=float32)"
            ]
          },
          "execution_count": 17,
          "metadata": {},
          "output_type": "execute_result"
        },
        {
          "data": {
            "image/png": "[encoded data removed]",
            "text/plain": [
              "<Figure size 640x480 with 1 Axes>"
            ]
          },
          "metadata": {},
          "output_type": "display_data"
        }
      ],
      "source": [
        "img = cv2.imread('img/encodea/dled_encodea_0.png', cv2.IMREAD_GRAYSCALE)\n",
        "plt.imshow(img)\n",
        "yhat = model.predict(np.expand_dims(img/255, 0))\n",
        "yhat"
      ]
    },
    {
      "cell_type": "code",
      "execution_count": 43,
      "metadata": {
        "id": "zc-lSS2YM1Ec"
      },
      "outputs": [],
      "source": [
        "model.save(os.path.join('models','obf_classifier.keras'))"
      ]
    }
  ],
  "metadata": {
    "accelerator": "GPU",
    "colab": {
      "gpuType": "T4",
      "provenance": []
    },
    "kernelspec": {
      "display_name": "Python 3",
      "name": "python3"
    },
    "language_info": {
      "codemirror_mode": {
        "name": "ipython",
        "version": 3
      },
      "file_extension": ".py",
      "mimetype": "text/x-python",
      "name": "python",
      "nbconvert_exporter": "python",
      "pygments_lexer": "ipython3",
      "version": "3.11.6"
    }
  },
  "nbformat": 4,
  "nbformat_minor": 0
}
