{
  "nbformat": 4,
  "nbformat_minor": 0,
  "metadata": {
    "colab": {
      "provenance": [],
      "gpuType": "T4"
    },
    "kernelspec": {
      "name": "python3",
      "display_name": "Python 3"
    },
    "language_info": {
      "name": "python"
    },
    "accelerator": "GPU"
  },
  "cells": [
    {
      "cell_type": "code",
      "execution_count": null,
      "metadata": {
        "id": "W74TwXxMwya8"
      },
      "outputs": [],
      "source": [
        "# importing modules\n",
        "from tensorflow.keras.models import Sequential\n",
        "from tensorflow.keras.layers import Conv2D, MaxPooling2D, Dense, Flatten, Dropout\n",
        "import tensorflow as tf\n",
        "import os\n",
        "import numpy as np\n",
        "import matplotlib.pyplot as plt\n"
      ]
    },
    {
      "cell_type": "code",
      "source": [
        "tf.config.list_physical_devices('GPU')"
      ],
      "metadata": {
        "colab": {
          "base_uri": "https://localhost:8080/"
        },
        "id": "wXlLmGwYbK8-",
        "outputId": "2c568ac5-3c02-4669-8117-d08573e3501c"
      },
      "execution_count": null,
      "outputs": [
        {
          "output_type": "execute_result",
          "data": {
            "text/plain": [
              "[PhysicalDevice(name='/physical_device:GPU:0', device_type='GPU')]"
            ]
          },
          "metadata": {},
          "execution_count": 2
        }
      ]
    },
    {
      "cell_type": "code",
      "source": [
        "os.getcwd()"
      ],
      "metadata": {
        "colab": {
          "base_uri": "https://localhost:8080/",
          "height": 35
        },
        "id": "Yk_Cr-POhgnE",
        "outputId": "aa369d86-367d-4323-8a39-716401bfa3d0"
      },
      "execution_count": null,
      "outputs": [
        {
          "output_type": "execute_result",
          "data": {
            "text/plain": [
              "'/content'"
            ],
            "application/vnd.google.colaboratory.intrinsic+json": {
              "type": "string"
            }
          },
          "metadata": {},
          "execution_count": 3
        }
      ]
    },
    {
      "cell_type": "code",
      "source": [
        "# load data\n",
        "import zipfile\n",
        "with zipfile.ZipFile(\"image_dataset.zip\", 'r') as zip_ref:\n",
        "        zip_ref.extractall()\n",
        "data = tf.keras.utils.image_dataset_from_directory('img', label_mode='categorical', image_size=(64, 64), color_mode='grayscale')"
      ],
      "metadata": {
        "colab": {
          "base_uri": "https://localhost:8080/"
        },
        "id": "moVQXi_xgU_6",
        "outputId": "1056dead-3df8-4b0d-ddec-9da7c32b7ab3"
      },
      "execution_count": null,
      "outputs": [
        {
          "output_type": "stream",
          "name": "stdout",
          "text": [
            "Found 6436 files belonging to 5 classes.\n"
          ]
        }
      ]
    },
    {
      "cell_type": "code",
      "source": [
        "# scale data to be from 0 to 1\n",
        "print(len(data))\n",
        "data = data.map(lambda image, label: (image/255, label))\n",
        "print(len(data))\n",
        "\n"
      ],
      "metadata": {
        "id": "wfp6KDsXiMgK",
        "colab": {
          "base_uri": "https://localhost:8080/"
        },
        "outputId": "5ca1f03e-b3e8-4f04-e7a4-61af7036c1bf"
      },
      "execution_count": null,
      "outputs": [
        {
          "output_type": "stream",
          "name": "stdout",
          "text": [
            "202\n",
            "202\n"
          ]
        }
      ]
    },
    {
      "cell_type": "code",
      "source": [
        "# train test val split\n",
        "train = data.take(int(len(data)*.6))\n",
        "val = data.skip(int(len(data)*.6)).take(int(len(data)*.2))\n",
        "test = data.skip(int(len(data)*.8)).take(int(len(data)*.2))"
      ],
      "metadata": {
        "id": "m56G6b-tidCx"
      },
      "execution_count": null,
      "outputs": []
    },
    {
      "cell_type": "code",
      "source": [
        "len(data)"
      ],
      "metadata": {
        "colab": {
          "base_uri": "https://localhost:8080/"
        },
        "id": "gNLb54zTqwgs",
        "outputId": "0a757317-4d4c-4497-95b3-e413ad464d35"
      },
      "execution_count": null,
      "outputs": [
        {
          "output_type": "execute_result",
          "data": {
            "text/plain": [
              "202"
            ]
          },
          "metadata": {},
          "execution_count": 7
        }
      ]
    },
    {
      "cell_type": "code",
      "source": [
        "train"
      ],
      "metadata": {
        "colab": {
          "base_uri": "https://localhost:8080/"
        },
        "id": "K8me1p_wixMZ",
        "outputId": "2a3ba002-cf63-4dc7-a0f8-4e0dd80a31b1"
      },
      "execution_count": null,
      "outputs": [
        {
          "output_type": "execute_result",
          "data": {
            "text/plain": [
              "<_TakeDataset element_spec=(TensorSpec(shape=(None, 64, 64, 1), dtype=tf.float32, name=None), TensorSpec(shape=(None, 5), dtype=tf.float32, name=None))>"
            ]
          },
          "metadata": {},
          "execution_count": 8
        }
      ]
    },
    {
      "cell_type": "code",
      "source": [
        "model = Sequential()"
      ],
      "metadata": {
        "id": "8jE_Th05w9eR"
      },
      "execution_count": null,
      "outputs": []
    },
    {
      "cell_type": "code",
      "source": [
        "model.add(Conv2D(30, (3,3), 1, activation='relu', input_shape=(64,64,1)))\n",
        "model.add(MaxPooling2D())\n",
        "\n",
        "model.add(Conv2D(15, (3,3), 1, activation='relu'))\n",
        "model.add(MaxPooling2D())\n",
        "\n",
        "model.add(Dropout(0.3))\n",
        "model.add(Flatten())\n",
        "\n",
        "model.add(Dense(128, activation='relu'))\n",
        "model.add(Dropout(0.4))\n",
        "\n",
        "model.add(Dense(50, activation='relu'))\n",
        "model.add(Dense(5, activation='softmax'))"
      ],
      "metadata": {
        "id": "-ej9q-gaxAPn"
      },
      "execution_count": null,
      "outputs": []
    },
    {
      "cell_type": "code",
      "source": [
        "model.compile('adam', loss=tf.losses.CategoricalCrossentropy(), metrics=['F1Score', 'accuracy'])\n"
      ],
      "metadata": {
        "id": "-AQ5NlALkPto"
      },
      "execution_count": null,
      "outputs": []
    },
    {
      "cell_type": "code",
      "source": [
        "model.summary()"
      ],
      "metadata": {
        "colab": {
          "base_uri": "https://localhost:8080/"
        },
        "id": "LKXZ5pMUybpp",
        "outputId": "cb9814e6-5479-4c9e-db54-9499bdbf4fc7"
      },
      "execution_count": null,
      "outputs": [
        {
          "output_type": "stream",
          "name": "stdout",
          "text": [
            "Model: \"sequential\"\n",
            "_________________________________________________________________\n",
            " Layer (type)                Output Shape              Param #   \n",
            "=================================================================\n",
            " conv2d (Conv2D)             (None, 62, 62, 30)        300       \n",
            "                                                                 \n",
            " max_pooling2d (MaxPooling2  (None, 31, 31, 30)        0         \n",
            " D)                                                              \n",
            "                                                                 \n",
            " conv2d_1 (Conv2D)           (None, 29, 29, 15)        4065      \n",
            "                                                                 \n",
            " max_pooling2d_1 (MaxPoolin  (None, 14, 14, 15)        0         \n",
            " g2D)                                                            \n",
            "                                                                 \n",
            " dropout (Dropout)           (None, 14, 14, 15)        0         \n",
            "                                                                 \n",
            " flatten (Flatten)           (None, 2940)              0         \n",
            "                                                                 \n",
            " dense (Dense)               (None, 128)               376448    \n",
            "                                                                 \n",
            " dropout_1 (Dropout)         (None, 128)               0         \n",
            "                                                                 \n",
            " dense_1 (Dense)             (None, 50)                6450      \n",
            "                                                                 \n",
            " dense_2 (Dense)             (None, 5)                 255       \n",
            "                                                                 \n",
            "=================================================================\n",
            "Total params: 387518 (1.48 MB)\n",
            "Trainable params: 387518 (1.48 MB)\n",
            "Non-trainable params: 0 (0.00 Byte)\n",
            "_________________________________________________________________\n"
          ]
        }
      ]
    },
    {
      "cell_type": "code",
      "source": [
        "hist = model.fit(train, epochs=20, validation_data=val)"
      ],
      "metadata": {
        "colab": {
          "base_uri": "https://localhost:8080/"
        },
        "id": "2Bc2RkBgknJG",
        "outputId": "824deadb-8cf1-4690-9228-2aaea7804ff9"
      },
      "execution_count": null,
      "outputs": [
        {
          "output_type": "stream",
          "name": "stdout",
          "text": [
            "Epoch 1/20\n",
            "121/121 [==============================] - 8s 21ms/step - loss: 0.6519 - f1_score: 0.7423 - accuracy: 0.7448 - val_loss: 0.1691 - val_f1_score: 0.9476 - val_accuracy: 0.9461\n",
            "Epoch 2/20\n",
            "121/121 [==============================] - 2s 19ms/step - loss: 0.1291 - f1_score: 0.9593 - accuracy: 0.9597 - val_loss: 0.0934 - val_f1_score: 0.9739 - val_accuracy: 0.9727\n",
            "Epoch 3/20\n",
            "121/121 [==============================] - 2s 14ms/step - loss: 0.0977 - f1_score: 0.9721 - accuracy: 0.9724 - val_loss: 0.0704 - val_f1_score: 0.9769 - val_accuracy: 0.9766\n",
            "Epoch 4/20\n",
            "121/121 [==============================] - 4s 31ms/step - loss: 0.0607 - f1_score: 0.9800 - accuracy: 0.9801 - val_loss: 0.0614 - val_f1_score: 0.9782 - val_accuracy: 0.9773\n",
            "Epoch 5/20\n",
            "121/121 [==============================] - 2s 19ms/step - loss: 0.0484 - f1_score: 0.9843 - accuracy: 0.9845 - val_loss: 0.0426 - val_f1_score: 0.9849 - val_accuracy: 0.9844\n",
            "Epoch 6/20\n",
            "121/121 [==============================] - 2s 19ms/step - loss: 0.0374 - f1_score: 0.9880 - accuracy: 0.9881 - val_loss: 0.0398 - val_f1_score: 0.9869 - val_accuracy: 0.9867\n",
            "Epoch 7/20\n",
            "121/121 [==============================] - 2s 19ms/step - loss: 0.0274 - f1_score: 0.9901 - accuracy: 0.9902 - val_loss: 0.0349 - val_f1_score: 0.9878 - val_accuracy: 0.9875\n",
            "Epoch 8/20\n",
            "121/121 [==============================] - 2s 19ms/step - loss: 0.0206 - f1_score: 0.9929 - accuracy: 0.9930 - val_loss: 0.0307 - val_f1_score: 0.9887 - val_accuracy: 0.9883\n",
            "Epoch 9/20\n",
            "121/121 [==============================] - 3s 20ms/step - loss: 0.0162 - f1_score: 0.9943 - accuracy: 0.9943 - val_loss: 0.0412 - val_f1_score: 0.9872 - val_accuracy: 0.9867\n",
            "Epoch 10/20\n",
            "121/121 [==============================] - 2s 14ms/step - loss: 0.0127 - f1_score: 0.9956 - accuracy: 0.9956 - val_loss: 0.0389 - val_f1_score: 0.9862 - val_accuracy: 0.9859\n",
            "Epoch 11/20\n",
            "121/121 [==============================] - 2s 14ms/step - loss: 0.0117 - f1_score: 0.9969 - accuracy: 0.9969 - val_loss: 0.0318 - val_f1_score: 0.9916 - val_accuracy: 0.9914\n",
            "Epoch 12/20\n",
            "121/121 [==============================] - 2s 19ms/step - loss: 0.0137 - f1_score: 0.9953 - accuracy: 0.9954 - val_loss: 0.0273 - val_f1_score: 0.9899 - val_accuracy: 0.9898\n",
            "Epoch 13/20\n",
            "121/121 [==============================] - 2s 19ms/step - loss: 0.0083 - f1_score: 0.9979 - accuracy: 0.9979 - val_loss: 0.0385 - val_f1_score: 0.9884 - val_accuracy: 0.9883\n",
            "Epoch 14/20\n",
            "121/121 [==============================] - 3s 21ms/step - loss: 0.0110 - f1_score: 0.9961 - accuracy: 0.9961 - val_loss: 0.0346 - val_f1_score: 0.9878 - val_accuracy: 0.9875\n",
            "Epoch 15/20\n",
            "121/121 [==============================] - 2s 19ms/step - loss: 0.0106 - f1_score: 0.9971 - accuracy: 0.9972 - val_loss: 0.0426 - val_f1_score: 0.9894 - val_accuracy: 0.9891\n",
            "Epoch 16/20\n",
            "121/121 [==============================] - 2s 19ms/step - loss: 0.0069 - f1_score: 0.9982 - accuracy: 0.9982 - val_loss: 0.0438 - val_f1_score: 0.9865 - val_accuracy: 0.9859\n",
            "Epoch 17/20\n",
            "121/121 [==============================] - 2s 14ms/step - loss: 0.0067 - f1_score: 0.9982 - accuracy: 0.9982 - val_loss: 0.0370 - val_f1_score: 0.9910 - val_accuracy: 0.9906\n",
            "Epoch 18/20\n",
            "121/121 [==============================] - 2s 18ms/step - loss: 0.0063 - f1_score: 0.9979 - accuracy: 0.9979 - val_loss: 0.0468 - val_f1_score: 0.9915 - val_accuracy: 0.9914\n",
            "Epoch 19/20\n",
            "121/121 [==============================] - 2s 18ms/step - loss: 0.0090 - f1_score: 0.9969 - accuracy: 0.9969 - val_loss: 0.0317 - val_f1_score: 0.9885 - val_accuracy: 0.9883\n",
            "Epoch 20/20\n",
            "121/121 [==============================] - 2s 14ms/step - loss: 0.0065 - f1_score: 0.9977 - accuracy: 0.9977 - val_loss: 0.0197 - val_f1_score: 0.9923 - val_accuracy: 0.9922\n"
          ]
        }
      ]
    },
    {
      "cell_type": "code",
      "source": [
        "fig = plt.figure()\n",
        "plt.plot(hist.history['loss'], color='teal', label='loss')\n",
        "plt.plot(hist.history['val_loss'], color='orange', label='val_loss')\n",
        "fig.suptitle('Loss', fontsize=20)\n",
        "plt.legend(loc=\"upper left\")\n",
        "plt.show()"
      ],
      "metadata": {
        "colab": {
          "base_uri": "https://localhost:8080/",
          "height": 478
        },
        "id": "r9I0iYvRpuCx",
        "outputId": "3759c945-783e-4f61-bfd1-49940188d231"
      },
      "execution_count": null,
      "outputs": [
        {
          "output_type": "display_data",
          "data": {
            "text/plain": [
              "<Figure size 640x480 with 1 Axes>"
            ],
            "image/png": "[encoded data removed]"
          },
          "metadata": {}
        }
      ]
    },
    {
      "cell_type": "code",
      "source": [
        "model.evaluate(test)"
      ],
      "metadata": {
        "colab": {
          "base_uri": "https://localhost:8080/"
        },
        "id": "MKXzEJLftUjH",
        "outputId": "6eb51e03-8441-4b54-f5a1-47e2333c5bea"
      },
      "execution_count": null,
      "outputs": [
        {
          "output_type": "stream",
          "name": "stdout",
          "text": [
            "40/40 [==============================] - 1s 6ms/step - loss: 0.0272 - f1_score: 0.9922 - accuracy: 0.9922\n"
          ]
        },
        {
          "output_type": "execute_result",
          "data": {
            "text/plain": [
              "[0.027185726910829544,\n",
              " array([0.9904398 , 0.98479086, 0.9856851 , 1.        , 1.        ],\n",
              "       dtype=float32),\n",
              " 0.9921875]"
            ]
          },
          "metadata": {},
          "execution_count": 15
        }
      ]
    },
    {
      "cell_type": "code",
      "source": [
        "\n",
        "import cv2"
      ],
      "metadata": {
        "id": "sTB_f32UvVXH"
      },
      "execution_count": null,
      "outputs": []
    },
    {
      "cell_type": "code",
      "source": [
        "img = cv2.imread('img/encodea/dled_encodea_0.png', cv2.IMREAD_GRAYSCALE)\n",
        "plt.imshow(img)\n",
        "yhat = model.predict(np.expand_dims(img/255, 0))\n",
        "yhat"
      ],
      "metadata": {
        "colab": {
          "base_uri": "https://localhost:8080/",
          "height": 484
        },
        "id": "toYKYp1Pv4ra",
        "outputId": "a92764d5-c85f-4bed-e414-ce7ff1c43195"
      },
      "execution_count": null,
      "outputs": [
        {
          "output_type": "stream",
          "name": "stdout",
          "text": [
            "1/1 [==============================] - 0s 181ms/step\n"
          ]
        },
        {
          "output_type": "execute_result",
          "data": {
            "text/plain": [
              "array([[6.0428749e-04, 9.9936920e-01, 2.4107567e-05, 2.4661392e-06,\n",
              "        2.2489536e-08]], dtype=float32)"
            ]
          },
          "metadata": {},
          "execution_count": 17
        },
        {
          "output_type": "display_data",
          "data": {
            "text/plain": [
              "<Figure size 640x480 with 1 Axes>"
            ],
            "image/png": "[encoded data removed]"
          },
          "metadata": {}
        }
      ]
    },
    {
      "cell_type": "code",
      "source": [
        "model.save(os.path.join('models','obf_classifier.keras'))"
      ],
      "metadata": {
        "id": "zc-lSS2YM1Ec"
      },
      "execution_count": null,
      "outputs": []
    }
  ]
}